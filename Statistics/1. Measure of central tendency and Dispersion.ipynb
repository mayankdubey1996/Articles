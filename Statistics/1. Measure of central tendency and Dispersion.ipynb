{
 "cells": [
  {
   "cell_type": "markdown",
   "metadata": {},
   "source": [
    "Lets say you have dataset in which one column has **numerical** data type and there are 1000 data points (rows) in that column, It is hard and time consuming to go through each and evey data point, hence to overcome this problem we use descriptive statistics which describes our data and makes our task much more simpler. We also use visualization such as histogram and boxplot to understand the distribution of the data."
   ]
  },
  {
   "cell_type": "markdown",
   "metadata": {},
   "source": [
    "### What is summary statistics?\n",
    "Rather than understanding 1000 rows, summary only has 1 number which discribes the whole data.\n",
    "\n",
    "There are basically 2 types of summarizing techniques.\n",
    "\n",
    "1) Measure of central tendency.\n",
    " - Mean\n",
    " - Median\n",
    " - Mode\n",
    " \n",
    "2) Measure of dispersion.\n",
    " - Range\n",
    " - Variance\n",
    " - Standard deviation\n",
    " - IQR (Inter qurtile range)"
   ]
  },
  {
   "cell_type": "markdown",
   "metadata": {},
   "source": [
    "## Measure of central tendency\n",
    "\n",
    "1. Mean\n",
    "    $$\\bar{X} = \\sum_{i=1}^{n} \\frac{x_i}{n}$$\n",
    "2. Median\n",
    "    - Sort the data, return the middle value that would be the median.\n",
    "3. Mode\n",
    "    - Most frequent value in the data."
   ]
  },
  {
   "cell_type": "markdown",
   "metadata": {},
   "source": [
    "### Lets take the example"
   ]
  },
  {
   "cell_type": "code",
   "execution_count": 1,
   "metadata": {},
   "outputs": [],
   "source": [
    "# importing required libraries\n",
    "import numpy as np\n",
    "import statistics  as st\n",
    "import matplotlib.pyplot as plt\n",
    "from scipy.stats import skewnorm \n",
    "import seaborn as sns"
   ]
  },
  {
   "cell_type": "code",
   "execution_count": 2,
   "metadata": {},
   "outputs": [
    {
     "name": "stdout",
     "output_type": "stream",
     "text": [
      "Mean  :  5.0\n",
      "Median:  5.0\n",
      "Mode  :  5\n"
     ]
    }
   ],
   "source": [
    "x = [5,5,3,4,1,7,8,6,9,2]\n",
    "mean  = np.mean(x)\n",
    "median = np.median(x)\n",
    "mode   = st.mode(x)\n",
    "print(\"Mean  : \",mean)\n",
    "print(\"Median: \",median)\n",
    "print(\"Mode  : \",mode)"
   ]
  },
  {
   "cell_type": "markdown",
   "metadata": {},
   "source": [
    "Now let's experiment, we will append extreme value in x and see the changes in mean, median and mode."
   ]
  },
  {
   "cell_type": "markdown",
   "metadata": {},
   "source": [
    " - Appending big positive integer "
   ]
  },
  {
   "cell_type": "code",
   "execution_count": 3,
   "metadata": {},
   "outputs": [
    {
     "name": "stdout",
     "output_type": "stream",
     "text": [
      "Mean  :  13.636363636363637\n",
      "Median:  5.0\n",
      "Mode  :  5\n"
     ]
    }
   ],
   "source": [
    "x = [5,5,3,4,1,7,8,6,9,2,100] #100 appended\n",
    "mean  = np.mean(x)\n",
    "median = np.median(x)\n",
    "mode   = st.mode(x)\n",
    "print(\"Mean  : \",mean)\n",
    "print(\"Median: \",median)\n",
    "print(\"Mode  : \",mode)"
   ]
  },
  {
   "cell_type": "markdown",
   "metadata": {},
   "source": [
    " - Appending big negative integer "
   ]
  },
  {
   "cell_type": "code",
   "execution_count": 4,
   "metadata": {},
   "outputs": [
    {
     "name": "stdout",
     "output_type": "stream",
     "text": [
      "Mean  :  -4.545454545454546\n",
      "Median:  5.0\n",
      "Mode  :  5\n"
     ]
    }
   ],
   "source": [
    "x = [5,5,3,4,1,7,8,6,9,2,-100] #-100 appended\n",
    "mean  = np.mean(x)\n",
    "median = np.median(x)\n",
    "mode   = st.mode(x)\n",
    "print(\"Mean  : \",mean)\n",
    "print(\"Median: \",median)\n",
    "print(\"Mode  : \",mode)"
   ]
  },
  {
   "cell_type": "markdown",
   "metadata": {},
   "source": [
    "If we add big positive integer mean followed towards it and if we add big negative integer mean followed towards it. Notice median and mode remained unchanged."
   ]
  },
  {
   "cell_type": "code",
   "execution_count": 5,
   "metadata": {},
   "outputs": [],
   "source": [
    "def rounding(xi):\n",
    "    xi = list(xi)\n",
    "    for i in range(len(xi)):\n",
    "        xi[i] = round(xi[i],0)\n",
    "    return xi"
   ]
  },
  {
   "cell_type": "markdown",
   "metadata": {},
   "source": [
    "### Effect of skewness on mean, median and mode.\n",
    " - Normal distribution"
   ]
  },
  {
   "cell_type": "code",
   "execution_count": 6,
   "metadata": {},
   "outputs": [],
   "source": [
    "x = np.random.normal(100, 10, 1000000)\n",
    "mean  = round(np.mean(x),2)\n",
    "median = round(np.median(x),2)\n",
    "xi = rounding(x)\n",
    "mode   = st.mode(xi)"
   ]
  },
  {
   "cell_type": "code",
   "execution_count": 7,
   "metadata": {},
   "outputs": [
    {
     "data": {
      "image/png": "[encoded data removed]",
      "text/plain": [
       "<Figure size 432x288 with 1 Axes>"
      ]
     },
     "metadata": {
      "needs_background": "light"
     },
     "output_type": "display_data"
    }
   ],
   "source": [
    "ax = sns.distplot(x, kde=True, hist = False ,color='green')\n",
    "plt.title(\"Normal distibution\", fontsize=20, y=1.012)\n",
    "plt.xlabel(\"X\", labelpad=15)\n",
    "plt.ylabel(\"frequency\", labelpad=15)\n",
    "names = [\"mean\", \"median\",\"mode\"]\n",
    "colors = ['darkmagenta', 'darkorange','red']\n",
    "measurements = [mean, median,mode]\n",
    "for measurement, name, color in zip(measurements, names, colors):\n",
    "    plt.axvline(x=measurement, linestyle='--', linewidth=2.5, label='{0} at {1}'.format(name, measurement), c=color)\n",
    "plt.legend();"
   ]
  },
  {
   "cell_type": "markdown",
   "metadata": {},
   "source": [
    "### Right skewed"
   ]
  },
  {
   "cell_type": "code",
   "execution_count": 8,
   "metadata": {},
   "outputs": [],
   "source": [
    "a = 10\n",
    "x = skewnorm.rvs(a, size=1000000)*100\n",
    "mean  = round(np.mean(x),2)\n",
    "median = round(np.median(x),2)\n",
    "xi = rounding(x)\n",
    "mode   = st.mode(xi)"
   ]
  },
  {
   "cell_type": "code",
   "execution_count": 9,
   "metadata": {},
   "outputs": [
    {
     "data": {
      "image/png": "[encoded data removed]",
      "text/plain": [
       "<Figure size 432x288 with 1 Axes>"
      ]
     },
     "metadata": {
      "needs_background": "light"
     },
     "output_type": "display_data"
    }
   ],
   "source": [
    "ax = sns.distplot(x, kde=True, hist = False ,color='green')\n",
    "plt.title(\"Right skewed\", fontsize=20, y=1.012)\n",
    "plt.xlabel(\"X\", labelpad=15)\n",
    "plt.ylabel(\"frequency\", labelpad=15)\n",
    "names = [\"mean\", \"median\",\"mode\"]\n",
    "colors = ['darkmagenta', 'darkorange','red']\n",
    "measurements = [mean, median,mode]\n",
    "for measurement, name, color in zip(measurements, names, colors):\n",
    "    plt.axvline(x=measurement, linestyle='--', linewidth=2.5, label='{0} at {1}'.format(name, measurement), c=color)\n",
    "plt.legend();"
   ]
  },
  {
   "cell_type": "markdown",
   "metadata": {},
   "source": [
    "### Left skewed"
   ]
  },
  {
   "cell_type": "code",
   "execution_count": 10,
   "metadata": {},
   "outputs": [],
   "source": [
    "a = -10\n",
    "x = skewnorm.rvs(a, size=1000000)*100\n",
    "mean  = round(np.mean(x),2)\n",
    "median = round(np.median(x),2)\n",
    "xi = rounding(x)\n",
    "mode   = st.mode(xi)"
   ]
  },
  {
   "cell_type": "code",
   "execution_count": 11,
   "metadata": {},
   "outputs": [
    {
     "data": {
      "image/png": "[encoded data removed]",
      "text/plain": [
       "<Figure size 432x288 with 1 Axes>"
      ]
     },
     "metadata": {
      "needs_background": "light"
     },
     "output_type": "display_data"
    }
   ],
   "source": [
    "ax = sns.distplot(x, kde=True, hist = False ,color='green')\n",
    "plt.title(\"Left skewed\", fontsize=20, y=1.012)\n",
    "plt.xlabel(\"X\", labelpad=15)\n",
    "plt.ylabel(\"frequency\", labelpad=15)\n",
    "names = [\"mean\", \"median\",\"mode\"]\n",
    "colors = ['darkmagenta', 'darkorange','red']\n",
    "measurements = [mean, median,mode]\n",
    "for measurement, name, color in zip(measurements, names, colors):\n",
    "    plt.axvline(x=measurement, linestyle='--', linewidth=2.5, label='{0} at {1}'.format(name, measurement), c=color)\n",
    "plt.legend();"
   ]
  },
  {
   "cell_type": "markdown",
   "metadata": {},
   "source": [
    "### Conclusion\n",
    " - Normal Distribution: \n",
    "     \n",
    "         - Mean ~ Median ~ Mode\n",
    "     \n",
    " - Right Skewed Distribution: \n",
    " \n",
    "          - Mean>Median>Mode\n",
    "      \n",
    " - Left Skewed Distribution: \n",
    " \n",
    "          - Mode>Median>Mean"
   ]
  },
  {
   "cell_type": "markdown",
   "metadata": {},
   "source": [
    "## Measure of dispersion"
   ]
  },
  {
   "cell_type": "code",
   "execution_count": 34,
   "metadata": {},
   "outputs": [],
   "source": [
    "x1 = np.random.normal(100, 10, 1000000)\n",
    "x2 = np.random.normal(100, 25, 1000000)"
   ]
  },
  {
   "cell_type": "code",
   "execution_count": 35,
   "metadata": {},
   "outputs": [
    {
     "name": "stdout",
     "output_type": "stream",
     "text": [
      "X1 Measure of central tendency:\n",
      "\tMean: 100.0\n",
      "\tMedian: 100.0\n",
      "\tMode: 101.0\n"
     ]
    }
   ],
   "source": [
    "mean  = round(np.mean(x1),2)\n",
    "median = round(np.median(x1),2)\n",
    "xi = rounding(x1)\n",
    "mode   = st.mode(xi)\n",
    "\n",
    "print(\"X1 Measure of central tendency:\")\n",
    "print(\"\\tMean:\",mean)\n",
    "print(\"\\tMedian:\",median)\n",
    "print(\"\\tMode:\",mode)"
   ]
  },
  {
   "cell_type": "code",
   "execution_count": 36,
   "metadata": {},
   "outputs": [
    {
     "name": "stdout",
     "output_type": "stream",
     "text": [
      "X1 Measure of central tendency:\n",
      "\tMean: 100.01\n",
      "\tMedian: 100.02\n",
      "\tMode: 99.0\n"
     ]
    }
   ],
   "source": [
    "mean  = round(np.mean(x2),2)\n",
    "median = round(np.median(x2),2)\n",
    "xi = rounding(x2)\n",
    "mode   = st.mode(xi)\n",
    "\n",
    "print(\"X1 Measure of central tendency:\")\n",
    "print(\"\\tMean:\",mean)\n",
    "print(\"\\tMedian:\",median)\n",
    "print(\"\\tMode:\",mode)"
   ]
  },
  {
   "cell_type": "code",
   "execution_count": 57,
   "metadata": {},
   "outputs": [
    {
     "data": {
      "text/plain": [
       "Text(0, 0.5, 'frequency')"
      ]
     },
     "execution_count": 57,
     "metadata": {},
     "output_type": "execute_result"
    },
    {
     "data": {
      "image/png": "[encoded data removed]",
      "text/plain": [
       "<Figure size 432x288 with 1 Axes>"
      ]
     },
     "metadata": {
      "needs_background": "light"
     },
     "output_type": "display_data"
    }
   ],
   "source": [
    "sns.distplot(x1, kde=True, hist = False ,color='green',label=\"X1\")\n",
    "sns.distplot(x2, kde=True, hist = False ,color='red',label = \"X2\")\n",
    "plt.title(\"Comparing two normal distributed graph\", fontsize=20, y=1.012)\n",
    "plt.xlabel(\"X\", labelpad=15)\n",
    "plt.ylabel(\"frequency\", labelpad=15)"
   ]
  },
  {
   "cell_type": "markdown",
   "metadata": {},
   "source": [
    "- Both data i.e. x1, x2 have same mean, median and mode however when we visualize the data there is difference in distribution between x1 and x2.\n",
    "- X2 which is reprented by red has more spread than X1 which is reprented in green."
   ]
  },
  {
   "cell_type": "markdown",
   "metadata": {},
   "source": [
    "So, for complete understanding of data `Measure of central tendency` alone is not helpful. To understand the data more precisely we need to calculate the measure of spread."
   ]
  },
  {
   "cell_type": "markdown",
   "metadata": {},
   "source": [
    "1) **Range:** Difference between minimum and maximum.\n",
    "                                        \n",
    "                                        range = max - min\n",
    "2) **Variance:** \n",
    "                                        $${S^2} = \\sum_{i=1}^{n} \\frac  {({ x_i - \\bar{X}} )^2}{n}$$\n",
    "                                      \n",
    "    \n",
    "3) **Standard deviation:**\n",
    "                                        $$S = \\sqrt{Variance}$$\n",
    "\n",
    "4) **IQR (Interquartile range):**\n",
    "   \n",
    "    - Sort the number.\n",
    "    - Find the median and call it Q2.\n",
    "    - Divide into two, left of the median and right of the median.\n",
    "    - From the left side, calculate the median and call it Q1.\n",
    "    - From right calculate the median and call it Q3.\n",
    "\n",
    "                                       IQR = Q3 - Q1"
   ]
  },
  {
   "cell_type": "code",
   "execution_count": 38,
   "metadata": {},
   "outputs": [],
   "source": [
    "x = [10,2,3,4,1,5]"
   ]
  },
  {
   "cell_type": "markdown",
   "metadata": {},
   "source": [
    "### Range"
   ]
  },
  {
   "cell_type": "code",
   "execution_count": 39,
   "metadata": {},
   "outputs": [],
   "source": [
    "def ranges(x):\n",
    "    \"Given the list of numbers it calculates the range.\"\n",
    "    return max(x) - min(x)"
   ]
  },
  {
   "cell_type": "code",
   "execution_count": 40,
   "metadata": {},
   "outputs": [
    {
     "name": "stdout",
     "output_type": "stream",
     "text": [
      "Range:  9\n"
     ]
    }
   ],
   "source": [
    "r = ranges(x)\n",
    "print(\"Range: \",r)"
   ]
  },
  {
   "cell_type": "markdown",
   "metadata": {},
   "source": [
    "### Variance"
   ]
  },
  {
   "cell_type": "code",
   "execution_count": 41,
   "metadata": {},
   "outputs": [],
   "source": [
    "def variance(x):\n",
    "    \"Given the list of numbers it calculates the variance.\"\n",
    "    return np.var(x)"
   ]
  },
  {
   "cell_type": "code",
   "execution_count": 42,
   "metadata": {},
   "outputs": [
    {
     "name": "stdout",
     "output_type": "stream",
     "text": [
      "Variance:  8.472222222222221\n"
     ]
    }
   ],
   "source": [
    "var = variance(x)\n",
    "print(\"Variance: \",var)"
   ]
  },
  {
   "cell_type": "markdown",
   "metadata": {},
   "source": [
    "### Standard deviation"
   ]
  },
  {
   "cell_type": "code",
   "execution_count": 43,
   "metadata": {},
   "outputs": [],
   "source": [
    "def standard_dev(x):\n",
    "    \"Given the list of numbers it calculates the standard deviation.\"\n",
    "    return np.std(x)"
   ]
  },
  {
   "cell_type": "code",
   "execution_count": 44,
   "metadata": {},
   "outputs": [
    {
     "name": "stdout",
     "output_type": "stream",
     "text": [
      "Standard deviation:  2.91070819942883\n"
     ]
    }
   ],
   "source": [
    "std = standard_dev(x)\n",
    "print(\"Standard deviation: \",std)"
   ]
  },
  {
   "cell_type": "markdown",
   "metadata": {},
   "source": [
    "### IQR"
   ]
  },
  {
   "cell_type": "code",
   "execution_count": 45,
   "metadata": {},
   "outputs": [],
   "source": [
    "def iqr(x):\n",
    "    x.sort()\n",
    "    x1 = x[:len(x)//2]\n",
    "    q1 = np.median(x1)\n",
    "    \n",
    "    x3 = x[len(x)//2:]\n",
    "    q3 = np.median(x3)\n",
    "    \n",
    "    return q3-q1"
   ]
  },
  {
   "cell_type": "code",
   "execution_count": 46,
   "metadata": {},
   "outputs": [
    {
     "name": "stdout",
     "output_type": "stream",
     "text": [
      "IQR:  3.0\n"
     ]
    }
   ],
   "source": [
    "IQR = iqr(x)\n",
    "print(\"IQR: \",IQR)"
   ]
  },
  {
   "cell_type": "markdown",
   "metadata": {},
   "source": [
    "### Concluding on x1 and x2"
   ]
  },
  {
   "cell_type": "code",
   "execution_count": 52,
   "metadata": {},
   "outputs": [],
   "source": [
    "mean = round(np.mean(x1),2)\n",
    "median = round(np.median(x1),2)\n",
    "xi = rounding(x1)\n",
    "mode   = st.mode(xi)\n",
    "r = round(ranges(x1),2)\n",
    "var = round(variance(x1),2)\n",
    "std = round(standard_dev(x1),2)\n",
    "IQR = round(iqr(x1),2)"
   ]
  },
  {
   "cell_type": "code",
   "execution_count": 53,
   "metadata": {},
   "outputs": [
    {
     "name": "stdout",
     "output_type": "stream",
     "text": [
      "Measure of central tendency of X1:\n",
      "\tMean: 100.0\n",
      "\tMedian: 100.0\n",
      "\tMode: 101.0\n",
      "Measure of dispersion of X1\n",
      "\tRange: 96.3\n",
      "\tVariance: 99.63\n",
      "\tStandard dev: 9.98\n",
      "\tIQR: 13.45\n"
     ]
    }
   ],
   "source": [
    "print(\"Measure of central tendency of X1:\")\n",
    "print(\"\\tMean:\",mean)\n",
    "print(\"\\tMedian:\",median)\n",
    "print(\"\\tMode:\",mode)\n",
    "print(\"Measure of dispersion of X1\")\n",
    "print(\"\\tRange:\",r)\n",
    "print(\"\\tVariance:\",var)\n",
    "print(\"\\tStandard dev:\",std)\n",
    "print(\"\\tIQR:\",IQR)"
   ]
  },
  {
   "cell_type": "code",
   "execution_count": 55,
   "metadata": {},
   "outputs": [],
   "source": [
    "mean = round(np.mean(x2),2)\n",
    "median = round(np.median(x2),2)\n",
    "xi = rounding(x2)\n",
    "mode   = st.mode(xi)\n",
    "r = round(ranges(x2),2)\n",
    "var = round(variance(x2),2)\n",
    "std = round(standard_dev(x2),2)\n",
    "IQR = round(iqr(x2),2)"
   ]
  },
  {
   "cell_type": "code",
   "execution_count": 56,
   "metadata": {},
   "outputs": [
    {
     "name": "stdout",
     "output_type": "stream",
     "text": [
      "Measure of central tendency of X2:\n",
      "\tMean: 100.01\n",
      "\tMedian: 100.02\n",
      "\tMode: 99.0\n",
      "Measure of dispersion of X2\n",
      "\tRange: 230.94\n",
      "\tVariance: 626.23\n",
      "\tStandard dev: 25.02\n",
      "\tIQR: 33.79\n"
     ]
    }
   ],
   "source": [
    "print(\"Measure of central tendency of X2:\")\n",
    "print(\"\\tMean:\",mean)\n",
    "print(\"\\tMedian:\",median)\n",
    "print(\"\\tMode:\",mode)\n",
    "print(\"Measure of dispersion of X2\")\n",
    "print(\"\\tRange:\",r)\n",
    "print(\"\\tVariance:\",var)\n",
    "print(\"\\tStandard dev:\",std)\n",
    "print(\"\\tIQR:\",IQR)"
   ]
  },
  {
   "cell_type": "markdown",
   "metadata": {},
   "source": [
    "### Conclusion:\n",
    " - However X1 and X2 has same mean, median and mode, difference lies in measure of dispersion."
   ]
  }
 ],
 "metadata": {
  "kernelspec": {
   "display_name": "Python 3",
   "language": "python",
   "name": "python3"
  },
  "language_info": {
   "codemirror_mode": {
    "name": "ipython",
    "version": 3
   },
   "file_extension": ".py",
   "mimetype": "text/x-python",
   "name": "python",
   "nbconvert_exporter": "python",
   "pygments_lexer": "ipython3",
   "version": "3.7.3"
  }
 },
 "nbformat": 4,
 "nbformat_minor": 4
}
